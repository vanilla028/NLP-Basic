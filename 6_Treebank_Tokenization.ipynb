{
  "nbformat": 4,
  "nbformat_minor": 0,
  "metadata": {
    "colab": {
      "provenance": []
    },
    "kernelspec": {
      "name": "python3",
      "display_name": "Python 3"
    },
    "language_info": {
      "name": "python"
    }
  },
  "cells": [
    {
      "cell_type": "code",
      "execution_count": 6,
      "metadata": {
        "colab": {
          "base_uri": "https://localhost:8080/"
        },
        "id": "YIgIuqPS4Y4z",
        "outputId": "29d61542-6b2c-41b6-b371-bafa9d8db600"
      },
      "outputs": [
        {
          "output_type": "stream",
          "name": "stdout",
          "text": [
            "['You', 'do', \"n't\", 'need', 'to', 'search', 'Iris', 'data', 'on', 'Google', 'but', 'to', 'load', 'by', 'Scikit-Learn.', 'Let', \"'s\", 'enjoy', 'learning', '!']\n"
          ]
        }
      ],
      "source": [
        "from nltk.tokenize import TreebankWordTokenizer\n",
        "\n",
        "tokenizer = TreebankWordTokenizer()\n",
        "text = \"You don't need to search Iris data on Google but to load by Scikit-Learn. Let's enjoy learning!\"\n",
        "\n",
        "# Treebank Word Tokenizer는 구두점은 제외하고, 축약형은 분리한다.\n",
        "print(tokenizer.tokenize(text))"
      ]
    }
  ]
}
