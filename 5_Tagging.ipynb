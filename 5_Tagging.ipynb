{
  "nbformat": 4,
  "nbformat_minor": 0,
  "metadata": {
    "colab": {
      "provenance": []
    },
    "kernelspec": {
      "name": "python3",
      "display_name": "Python 3"
    },
    "language_info": {
      "name": "python"
    }
  },
  "cells": [
    {
      "cell_type": "code",
      "execution_count": 3,
      "metadata": {
        "colab": {
          "base_uri": "https://localhost:8080/"
        },
        "id": "Zgy8BUzt3nni",
        "outputId": "d3808779-8f7e-4f3d-d1c5-2a786e61def9"
      },
      "outputs": [
        {
          "output_type": "stream",
          "name": "stderr",
          "text": [
            "[nltk_data] Downloading package punkt to /root/nltk_data...\n",
            "[nltk_data]   Package punkt is already up-to-date!\n",
            "[nltk_data] Downloading package averaged_perceptron_tagger to\n",
            "[nltk_data]     /root/nltk_data...\n",
            "[nltk_data]   Package averaged_perceptron_tagger is already up-to-\n",
            "[nltk_data]       date!\n"
          ]
        }
      ],
      "source": [
        "# 품사 태깅\n",
        "import nltk\n",
        "from nltk import pos_tag\n",
        "from nltk import word_tokenize\n",
        "\n",
        "nltk.download('punkt')\n",
        "nltk.download('averaged_perceptron_tagger') # 태거 다운로드\n",
        "\n",
        "text = \"Rachel loves drinking coffee in the morning\""
      ]
    },
    {
      "cell_type": "code",
      "source": [
        "tagged_text = pos_tag(word_tokenize(text))\n",
        "print(tagged_text)"
      ],
      "metadata": {
        "colab": {
          "base_uri": "https://localhost:8080/"
        },
        "id": "xlr9JYkC36mY",
        "outputId": "45bc9881-850f-47f0-f9d0-3fbdd04f27fc"
      },
      "execution_count": 4,
      "outputs": [
        {
          "output_type": "stream",
          "name": "stdout",
          "text": [
            "[('Rachel', 'NNP'), ('loves', 'VBZ'), ('drinking', 'VBG'), ('coffee', 'NN'), ('in', 'IN'), ('the', 'DT'), ('morning', 'NN')]\n"
          ]
        }
      ]
    },
    {
      "cell_type": "code",
      "source": [],
      "metadata": {
        "id": "zA8oiJ-F4Jd6"
      },
      "execution_count": null,
      "outputs": []
    }
  ]
}