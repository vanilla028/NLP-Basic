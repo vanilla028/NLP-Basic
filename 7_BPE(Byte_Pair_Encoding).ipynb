{
  "nbformat": 4,
  "nbformat_minor": 0,
  "metadata": {
    "colab": {
      "provenance": []
    },
    "kernelspec": {
      "name": "python3",
      "display_name": "Python 3"
    },
    "language_info": {
      "name": "python"
    }
  },
  "cells": [
    {
      "cell_type": "code",
      "source": [
        "import re, collections\n",
        "\n",
        "# 쌍(pair) 빈도 계산\n",
        "def get_freq(dictionary):\n",
        "  pairs = collections.defaultdict(int)             # 0으로 초기화된 딕셔너리 생성\n",
        "  for word, freq in dictionary.items():          # {키(word): 값(freq)} 쌍(pair) 반환\n",
        "    symbols = word.split()                       # 공백 기분 분리\n",
        "    for i in range(len(symbols)-1):            # 마지막 요소 다음에는 더 이상 문자열 쌍이 생성되지 않기 때문에 -1을 해준다.\n",
        "      pairs[symbols[i], symbols[i+1]] += freq\n",
        "\n",
        "  print('현재 pairs 빈도수: ', dict(pairs))\n",
        "  return pairs\n",
        "\n",
        "# 어휘 사전 업데이트\n",
        "def merge_dictionary(target_pair, input_dict):\n",
        "  output_dict = {}                                            # 빈 딕셔너리 생성\n",
        "  bigram = re.escape(' '.join(target_pair))             # 공백으로 문자열을 합쳐서 변수에 저장\n",
        "  pattern = re.compile(r'(?<!\\S)' + bigram + r'(?!\\S)')  # 패턴 객체 생성. 공백 아닌 문자열의 앞에 오는 경우, 뒤에 오는 경우\n",
        "  for word in input_dict:\n",
        "    w_out = pattern.sub(''.join(target_pair), word)\n",
        "    output_dict[w_out] = input_dict[word]\n",
        "  return output_dict\n",
        "\n",
        "dictionary = {'l o w' : 5, 'l o w e r' : 2, 'n e w e s t' : 6, 'w i d e s t' : 3}\n",
        "vocab = [\"l\", \"o\", \"w\", \"e\", \"r\", \"n\", \"s\", \"t\", \"i\", \"d\"]\n",
        "\n",
        "num_merges = 10\n",
        "for i in range(num_merges):\n",
        "  print(f\"{i+1}번째 BPE\")\n",
        "  pairs = get_freq(dictionary)\n",
        "  best = max(pairs, key=pairs.get)\n",
        "  dictionary = merge_dictionary(best, dictionary)\n",
        "  vocab.append(\"\".join(best))\n",
        "\n",
        "  print(f\"new merge: {best}\")\n",
        "  print(f\"dictionary: {dictionary}\")\n",
        "  print(f\"vocabulary: {vocab}\")"
      ],
      "metadata": {
        "colab": {
          "base_uri": "https://localhost:8080/"
        },
        "id": "cmlqc-I64Giy",
        "outputId": "f44e1abb-42c0-4117-9b38-dae6e0834168"
      },
      "execution_count": 1,
      "outputs": [
        {
          "output_type": "stream",
          "name": "stdout",
          "text": [
            "1번째 BPE\n",
            "현재 pairs 빈도수:  {('l', 'o'): 7, ('o', 'w'): 7, ('w', 'e'): 8, ('e', 'r'): 2, ('n', 'e'): 6, ('e', 'w'): 6, ('e', 's'): 9, ('s', 't'): 9, ('w', 'i'): 3, ('i', 'd'): 3, ('d', 'e'): 3}\n",
            "new merge: ('e', 's')\n",
            "dictionary: {'l o w': 5, 'l o w e r': 2, 'n e w es t': 6, 'w i d es t': 3}\n",
            "vocabulary: ['l', 'o', 'w', 'e', 'r', 'n', 's', 't', 'i', 'd', 'es']\n",
            "2번째 BPE\n",
            "현재 pairs 빈도수:  {('l', 'o'): 7, ('o', 'w'): 7, ('w', 'e'): 2, ('e', 'r'): 2, ('n', 'e'): 6, ('e', 'w'): 6, ('w', 'es'): 6, ('es', 't'): 9, ('w', 'i'): 3, ('i', 'd'): 3, ('d', 'es'): 3}\n",
            "new merge: ('es', 't')\n",
            "dictionary: {'l o w': 5, 'l o w e r': 2, 'n e w est': 6, 'w i d est': 3}\n",
            "vocabulary: ['l', 'o', 'w', 'e', 'r', 'n', 's', 't', 'i', 'd', 'es', 'est']\n",
            "3번째 BPE\n",
            "현재 pairs 빈도수:  {('l', 'o'): 7, ('o', 'w'): 7, ('w', 'e'): 2, ('e', 'r'): 2, ('n', 'e'): 6, ('e', 'w'): 6, ('w', 'est'): 6, ('w', 'i'): 3, ('i', 'd'): 3, ('d', 'est'): 3}\n",
            "new merge: ('l', 'o')\n",
            "dictionary: {'lo w': 5, 'lo w e r': 2, 'n e w est': 6, 'w i d est': 3}\n",
            "vocabulary: ['l', 'o', 'w', 'e', 'r', 'n', 's', 't', 'i', 'd', 'es', 'est', 'lo']\n",
            "4번째 BPE\n",
            "현재 pairs 빈도수:  {('lo', 'w'): 7, ('w', 'e'): 2, ('e', 'r'): 2, ('n', 'e'): 6, ('e', 'w'): 6, ('w', 'est'): 6, ('w', 'i'): 3, ('i', 'd'): 3, ('d', 'est'): 3}\n",
            "new merge: ('lo', 'w')\n",
            "dictionary: {'low': 5, 'low e r': 2, 'n e w est': 6, 'w i d est': 3}\n",
            "vocabulary: ['l', 'o', 'w', 'e', 'r', 'n', 's', 't', 'i', 'd', 'es', 'est', 'lo', 'low']\n",
            "5번째 BPE\n",
            "현재 pairs 빈도수:  {('low', 'e'): 2, ('e', 'r'): 2, ('n', 'e'): 6, ('e', 'w'): 6, ('w', 'est'): 6, ('w', 'i'): 3, ('i', 'd'): 3, ('d', 'est'): 3}\n",
            "new merge: ('n', 'e')\n",
            "dictionary: {'low': 5, 'low e r': 2, 'ne w est': 6, 'w i d est': 3}\n",
            "vocabulary: ['l', 'o', 'w', 'e', 'r', 'n', 's', 't', 'i', 'd', 'es', 'est', 'lo', 'low', 'ne']\n",
            "6번째 BPE\n",
            "현재 pairs 빈도수:  {('low', 'e'): 2, ('e', 'r'): 2, ('ne', 'w'): 6, ('w', 'est'): 6, ('w', 'i'): 3, ('i', 'd'): 3, ('d', 'est'): 3}\n",
            "new merge: ('ne', 'w')\n",
            "dictionary: {'low': 5, 'low e r': 2, 'new est': 6, 'w i d est': 3}\n",
            "vocabulary: ['l', 'o', 'w', 'e', 'r', 'n', 's', 't', 'i', 'd', 'es', 'est', 'lo', 'low', 'ne', 'new']\n",
            "7번째 BPE\n",
            "현재 pairs 빈도수:  {('low', 'e'): 2, ('e', 'r'): 2, ('new', 'est'): 6, ('w', 'i'): 3, ('i', 'd'): 3, ('d', 'est'): 3}\n",
            "new merge: ('new', 'est')\n",
            "dictionary: {'low': 5, 'low e r': 2, 'newest': 6, 'w i d est': 3}\n",
            "vocabulary: ['l', 'o', 'w', 'e', 'r', 'n', 's', 't', 'i', 'd', 'es', 'est', 'lo', 'low', 'ne', 'new', 'newest']\n",
            "8번째 BPE\n",
            "현재 pairs 빈도수:  {('low', 'e'): 2, ('e', 'r'): 2, ('w', 'i'): 3, ('i', 'd'): 3, ('d', 'est'): 3}\n",
            "new merge: ('w', 'i')\n",
            "dictionary: {'low': 5, 'low e r': 2, 'newest': 6, 'wi d est': 3}\n",
            "vocabulary: ['l', 'o', 'w', 'e', 'r', 'n', 's', 't', 'i', 'd', 'es', 'est', 'lo', 'low', 'ne', 'new', 'newest', 'wi']\n",
            "9번째 BPE\n",
            "현재 pairs 빈도수:  {('low', 'e'): 2, ('e', 'r'): 2, ('wi', 'd'): 3, ('d', 'est'): 3}\n",
            "new merge: ('wi', 'd')\n",
            "dictionary: {'low': 5, 'low e r': 2, 'newest': 6, 'wid est': 3}\n",
            "vocabulary: ['l', 'o', 'w', 'e', 'r', 'n', 's', 't', 'i', 'd', 'es', 'est', 'lo', 'low', 'ne', 'new', 'newest', 'wi', 'wid']\n",
            "10번째 BPE\n",
            "현재 pairs 빈도수:  {('low', 'e'): 2, ('e', 'r'): 2, ('wid', 'est'): 3}\n",
            "new merge: ('wid', 'est')\n",
            "dictionary: {'low': 5, 'low e r': 2, 'newest': 6, 'widest': 3}\n",
            "vocabulary: ['l', 'o', 'w', 'e', 'r', 'n', 's', 't', 'i', 'd', 'es', 'est', 'lo', 'low', 'ne', 'new', 'newest', 'wi', 'wid', 'widest']\n"
          ]
        }
      ]
    },
    {
      "cell_type": "code",
      "source": [],
      "metadata": {
        "id": "BIou1xTdo-ZP"
      },
      "execution_count": null,
      "outputs": []
    }
  ]
}
