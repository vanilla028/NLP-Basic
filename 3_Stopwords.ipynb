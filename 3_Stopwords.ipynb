{
  "nbformat": 4,
  "nbformat_minor": 0,
  "metadata": {
    "colab": {
      "provenance": []
    },
    "kernelspec": {
      "name": "python3",
      "display_name": "Python 3"
    },
    "language_info": {
      "name": "python"
    }
  },
  "cells": [
    {
      "cell_type": "code",
      "execution_count": 1,
      "metadata": {
        "colab": {
          "base_uri": "https://localhost:8080/"
        },
        "id": "P1PBJ8kXelXQ",
        "outputId": "6f658478-dde7-4fca-8798-1eb6b3f4f44c"
      },
      "outputs": [
        {
          "output_type": "stream",
          "name": "stderr",
          "text": [
            "[nltk_data] Downloading package punkt to /root/nltk_data...\n",
            "[nltk_data]   Unzipping tokenizers/punkt.zip.\n",
            "[nltk_data] Downloading package stopwords to /root/nltk_data...\n",
            "[nltk_data]   Unzipping corpora/stopwords.zip.\n"
          ]
        }
      ],
      "source": [
        "import nltk\n",
        "from nltk.corpus import stopwords\n",
        "from nltk.tokenize import word_tokenize\n",
        "\n",
        "nltk.download('punkt')\n",
        "nltk.download('stopwords')\n",
        "\n",
        "stop_words = set(stopwords.words('english'))"
      ]
    },
    {
      "cell_type": "code",
      "source": [
        "print(stopwords.words('english')[:10])"
      ],
      "metadata": {
        "colab": {
          "base_uri": "https://localhost:8080/"
        },
        "id": "YK2eLECUe0Xs",
        "outputId": "cfa2c180-9ecc-47ef-be4f-00dfde8eba26"
      },
      "execution_count": 2,
      "outputs": [
        {
          "output_type": "stream",
          "name": "stdout",
          "text": [
            "['i', 'me', 'my', 'myself', 'we', 'our', 'ours', 'ourselves', 'you', \"you're\"]\n"
          ]
        }
      ]
    },
    {
      "cell_type": "code",
      "source": [
        "text = \"We have studied hard for the exam to get a job in the field of AI since last October.\"\n",
        "\n",
        "word_tokens = word_tokenize(text) # 토큰화\n",
        "result = []\n",
        "\n",
        "# 불용어와 마침표 제거\n",
        "for word in word_tokens:\n",
        "    if word not in stop_words and word != '.':\n",
        "        result.append(word)\n",
        "\n",
        "print(word_tokens) # 토큰화 결과\n",
        "print(result) # 불용어 제거 결과"
      ],
      "metadata": {
        "colab": {
          "base_uri": "https://localhost:8080/"
        },
        "id": "Hwxc6pcLepsW",
        "outputId": "d5c7df84-4b80-4e26-c5d7-f82b122ef6b9"
      },
      "execution_count": 4,
      "outputs": [
        {
          "output_type": "stream",
          "name": "stdout",
          "text": [
            "['We', 'have', 'studied', 'hard', 'for', 'the', 'exam', 'to', 'get', 'a', 'job', 'in', 'the', 'field', 'of', 'AI', 'since', 'last', 'October', '.']\n",
            "['We', 'studied', 'hard', 'exam', 'get', 'job', 'field', 'AI', 'since', 'last', 'October']\n"
          ]
        }
      ]
    }
  ]
}