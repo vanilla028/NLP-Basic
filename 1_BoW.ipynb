{
  "nbformat": 4,
  "nbformat_minor": 0,
  "metadata": {
    "colab": {
      "provenance": []
    },
    "kernelspec": {
      "name": "python3",
      "display_name": "Python 3"
    },
    "language_info": {
      "name": "python"
    }
  },
  "cells": [
    {
      "cell_type": "code",
      "source": [
        "!pip install konlpy"
      ],
      "metadata": {
        "colab": {
          "base_uri": "https://localhost:8080/"
        },
        "id": "VwOuT1lfPDjJ",
        "outputId": "fec780c7-f6cf-4688-a44e-06cc0f2c8c06"
      },
      "execution_count": 1,
      "outputs": [
        {
          "output_type": "stream",
          "name": "stdout",
          "text": [
            "Collecting konlpy\n",
            "  Downloading konlpy-0.6.0-py2.py3-none-any.whl (19.4 MB)\n",
            "\u001b[2K     \u001b[90m━━━━━━━━━━━━━━━━━━━━━━━━━━━━━━━━━━━━━━━━\u001b[0m \u001b[32m19.4/19.4 MB\u001b[0m \u001b[31m49.4 MB/s\u001b[0m eta \u001b[36m0:00:00\u001b[0m\n",
            "\u001b[?25hCollecting JPype1>=0.7.0 (from konlpy)\n",
            "  Downloading JPype1-1.4.1-cp310-cp310-manylinux_2_12_x86_64.manylinux2010_x86_64.whl (465 kB)\n",
            "\u001b[2K     \u001b[90m━━━━━━━━━━━━━━━━━━━━━━━━━━━━━━━━━━━━━━\u001b[0m \u001b[32m465.3/465.3 kB\u001b[0m \u001b[31m37.1 MB/s\u001b[0m eta \u001b[36m0:00:00\u001b[0m\n",
            "\u001b[?25hRequirement already satisfied: lxml>=4.1.0 in /usr/local/lib/python3.10/dist-packages (from konlpy) (4.9.3)\n",
            "Requirement already satisfied: numpy>=1.6 in /usr/local/lib/python3.10/dist-packages (from konlpy) (1.23.5)\n",
            "Requirement already satisfied: packaging in /usr/local/lib/python3.10/dist-packages (from JPype1>=0.7.0->konlpy) (23.1)\n",
            "Installing collected packages: JPype1, konlpy\n",
            "Successfully installed JPype1-1.4.1 konlpy-0.6.0\n"
          ]
        }
      ]
    },
    {
      "cell_type": "code",
      "execution_count": 2,
      "metadata": {
        "id": "8kIN2l1rOUoo"
      },
      "outputs": [],
      "source": [
        "# Open-source Korean Text Processor\n",
        "from konlpy.tag import Okt"
      ]
    },
    {
      "cell_type": "code",
      "source": [
        "okt = Okt()"
      ],
      "metadata": {
        "id": "PAcEowjhPKMw"
      },
      "execution_count": 3,
      "outputs": []
    },
    {
      "cell_type": "code",
      "source": [
        "def build_bow(doc):\n",
        "    doc = doc.replace('.', '') # 마침표 제거\n",
        "    tokenized_doc = okt.morphs(doc) # 형태소로 토큰화\n",
        "\n",
        "    word_to_index = {} # 빈 딕셔너리 생성\n",
        "    bow = [] # 빈 리스트 생성\n",
        "\n",
        "    for word in tokenized_doc:\n",
        "        if word not in word_to_index.keys():\n",
        "            word_to_index[word] = len(word_to_index)\n",
        "\n",
        "            # bow에 기본값 1을 넢는다.\n",
        "            bow.insert(len(word_to_index) -1, 1)\n",
        "        else:\n",
        "            # 재등장하는 단어의 인덱스\n",
        "            index = word_to_index.get(word) # 값 = 딕셔너리.get(특정 키)\n",
        "            # 1을 더한다.\n",
        "            bow[index] = bow[index] + 1\n",
        "\n",
        "    return word_to_index, bow\n",
        "\n",
        "doc =  \"저는 인공지능 분야에서 일을 하고 있습니다. 인공지능은 재미있습니다. 인공지능 분야에서도 특히 자연어 처리에 관심이 아주 많습니다. 자연어 처리는 재미있습니다.\"\n",
        "\n",
        "word_to_index, bow =  build_bow(doc)\n",
        "\n",
        "print('단어: ', word_to_index)\n",
        "print('Bag of Words Vector: ', bow)\n"
      ],
      "metadata": {
        "colab": {
          "base_uri": "https://localhost:8080/"
        },
        "id": "j_ief0KAPMnX",
        "outputId": "a0b251a3-5f97-4599-815c-68de97e0edbb"
      },
      "execution_count": 8,
      "outputs": [
        {
          "output_type": "stream",
          "name": "stdout",
          "text": [
            "단어:  {'저': 0, '는': 1, '인공': 2, '지능': 3, '분야': 4, '에서': 5, '일': 6, '을': 7, '하고': 8, '있습니다': 9, '은': 10, '재미있습니다': 11, '에서도': 12, '특히': 13, '자연어': 14, '처리': 15, '에': 16, '관심': 17, '이': 18, '아주': 19, '많습니다': 20}\n",
            "Bag of Words Vector:  [1, 2, 3, 3, 2, 1, 1, 1, 1, 1, 1, 2, 1, 1, 2, 2, 1, 1, 1, 1, 1]\n"
          ]
        }
      ]
    },
    {
      "cell_type": "code",
      "source": [],
      "metadata": {
        "id": "IRsO2ASvVOQV"
      },
      "execution_count": null,
      "outputs": []
    }
  ]
}